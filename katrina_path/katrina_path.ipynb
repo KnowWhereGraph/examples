{
 "cells": [
  {
   "cell_type": "code",
   "execution_count": null,
   "id": "5e8657e1-63c6-40c1-b237-71b010aabd08",
   "metadata": {},
   "outputs": [],
   "source": [
    "from geomet import wkt\n",
    "import geopandas as gpd\n",
    "from geopandas import GeoDataFrame\n",
    "import matplotlib.pyplot as plt\n",
    "import pandas as pd\n",
    "from shapely.geometry import Point\n",
    "from SPARQLWrapper import SPARQLWrapper, JSON"
   ]
  },
  {
   "cell_type": "code",
   "execution_count": null,
   "id": "dab0d258-df7a-41c6-95f8-bc78ebd7234f",
   "metadata": {},
   "outputs": [],
   "source": [
    "# Set the SPARQL endpoint and request that the response is in JSON\n",
    "sparql = SPARQLWrapper(\"https://stko-kwg.geog.ucsb.edu/sparql\")\n",
    "sparql.setReturnFormat(JSON)"
   ]
  },
  {
   "cell_type": "code",
   "execution_count": null,
   "id": "f83dce35-2388-4432-8d05-d449dba43d58",
   "metadata": {},
   "outputs": [],
   "source": [
    "# From the schema, we can see that kwgr:StormTrack contains the individual track points in\n",
    "# a list of StormTracklet objects, related to through kwg-ont:hasStormTracklet. Each StormTracklet is\n",
    "# linked to a geosparql:Geometry, which in turn has the point information.\n",
    "query = \"\"\"PREFIX kwgr: <http://stko-kwg.geog.ucsb.edu/lod/resource/>\n",
    "PREFIX kwg-ont: <http://stko-kwg.geog.ucsb.edu/lod/ontology/>\n",
    "PREFIX geosparql: <http://www.opengis.net/ont/geosparql#>\n",
    "SELECT * WHERE { \n",
    "    <http://stko-kwg.geog.ucsb.edu/lod/resource/StormTrack.2005236N23285> kwg-ont:hasStormTracklet ?tracklet .\n",
    "    ?tracklet geosparql:hasDefaultGeometry ?default_geometry .\n",
    "    ?default_geometry geosparql:asWKT ?geometry .\n",
    "}\"\"\"\n",
    "sparql.setQuery(query)"
   ]
  },
  {
   "cell_type": "code",
   "execution_count": null,
   "id": "891cd61c-4b01-4865-80ea-346ced563fbb",
   "metadata": {},
   "outputs": [],
   "source": [
    "# Create an empty dataframe to hold the Latitude and Longitude values of each point in the storm track\n",
    "storm_record = pd.DataFrame(columns=['Lat', 'Long'])\n",
    "\n",
    "try:\n",
    "    query_result = sparql.queryAndConvert()\n",
    "    # Loop over the results and add the Lat & Long for each tracklet to the storm record\n",
    "    for track_result in query_result[\"results\"][\"bindings\"]:\n",
    "        coordinates = wkt.loads(track_result['geometry']['value'])['coordinates']\n",
    "        storm_record.loc[len(storm_record.index)] = [coordinates[0], coordinates[1]]\n",
    "except Exception as e:\n",
    "    print(f\"There was a problem processing the data: {e}\")"
   ]
  },
  {
   "cell_type": "code",
   "execution_count": null,
   "id": "eacb9092-f294-489c-aaa6-42d3d7b0a6eb",
   "metadata": {},
   "outputs": [],
   "source": [
    "# Turn the dataframe into a list of shapely Points\n",
    "geometry = [Point(xy) for xy in zip(storm_record['Lat'], storm_record['Long'])]\n",
    "gdf = GeoDataFrame(storm_record, geometry=geometry)\n",
    "\n",
    "# Use the default geopandas low resolution map\n",
    "world = gpd.read_file(gpd.datasets.get_path('naturalearth_lowres'))\n",
    "gdf.plot(ax=world.plot(figsize=(10, 6)), marker='o', color='red', markersize=15)\n",
    "plt.show()\n",
    "\n",
    "gdf.to_file(\"katrina_storm_track.shp\")"
   ]
  }
 ],
 "metadata": {
  "kernelspec": {
   "display_name": "Python 3 (ipykernel)",
   "language": "python",
   "name": "python3"
  },
  "language_info": {
   "codemirror_mode": {
    "name": "ipython",
    "version": 3
   },
   "file_extension": ".py",
   "mimetype": "text/x-python",
   "name": "python",
   "nbconvert_exporter": "python",
   "pygments_lexer": "ipython3",
   "version": "3.10.5"
  }
 },
 "nbformat": 4,
 "nbformat_minor": 5
}
